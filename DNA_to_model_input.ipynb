{
 "cells": [
  {
   "cell_type": "markdown",
   "metadata": {},
   "source": [
    "# From DNA to Model Input:  Intro\n",
    "\n",
    "In this notebook, we will walk through the process of taking raw DNA sequences and preparing them for input into a sequence-to-function (S2F) model.  \n",
    "\n",
    "- Inspect DNA sequences and extract simple features\n",
    "- One-hot encode sequences into numerical arrays\n",
    "- Split a dataset into training and test sets\n",
    "- Train a simple classifier and visualize outputs\n"
   ]
  },
  {
   "cell_type": "code",
   "execution_count": 1,
   "metadata": {},
   "outputs": [],
   "source": [
    "import numpy as np\n",
    "import random\n",
    "import matplotlib.pyplot as plt\n",
    "import seaborn as sns\n",
    "\n",
    "from sklearn.model_selection import train_test_split\n",
    "from sklearn.linear_model import LogisticRegression\n",
    "from sklearn.metrics import accuracy_score, ConfusionMatrixDisplay\n",
    "\n",
    "import torch\n",
    "import torch.nn as nn\n",
    "import torch.nn.functional as F\n",
    "from torch.utils.data import TensorDataset, DataLoader\n"
   ]
  },
  {
   "cell_type": "markdown",
   "metadata": {},
   "source": [
    "## Step 1: Toy DNA Dataset\n",
    "\n",
    "Let's start with a few short DNA sequences. In real applications, these would come from sequencing experiments (e.g., ATAC-seq, RNA-seq).\n"
   ]
  },
  {
   "cell_type": "code",
   "execution_count": 17,
   "metadata": {},
   "outputs": [],
   "source": [
    "sequences = [\n",
    "    \"ATGCGTACGTAGCTAG\",\n",
    "    \"GGCATTATGTATATAT\",\n",
    "    \"CGTATGCATGCGTAGC\",\n",
    "    \"ATGATTTGTGTCATGC\",\n",
    "    \"TTGCGATGCTAGCATG\",\n",
    "    \"ATGCATGCATGCATGC\",\n",
    "    \"GGGCGCGTATATATAT\",\n",
    "    \"ATGCGTACGTAGATAG\",\n",
    "    \"ATGCATATTTGCATGC\",\n",
    "    \"GGGCGCGTAGGCTTAT\",\n",
    "    \"ATGATTTGTGTCATGC\",\n",
    "    \"CGTATGCATGCGTCCC\",\n",
    "    \"GGGATTATGTATATAT\",\n",
    "    \"ATGATTTGTGTCATGC\",\n",
    "    \"CGTATGCATGGGTGCC\",\n",
    "]\n",
    "\n",
    "# pretend labels (e.g., accessible = 1, not accessible = 0)\n",
    "labels = [1,0, 0, 1, 1, 0, 1, 0, 0, 1, 0, 0, 1, 0, 1 ]\n"
   ]
  },
  {
   "cell_type": "code",
   "execution_count": 2,
   "metadata": {},
   "outputs": [],
   "source": [
    "def generate_sequence(class_label, length=30):\n",
    "    \"\"\"\n",
    "    Generate DNA sequences with same composition but different motif arrangement.\n",
    "    Class 1: 'ATG' followed by 'C'\n",
    "    Class 0: 'ATG' followed by 'T'\n",
    "    \"\"\"\n",
    "    # Build balanced pool (equal A,C,G,T, adjusted to length)\n",
    "    base_pool = ([\"A\",\"C\",\"G\",\"T\"] * (length//4)) + random.choices(\"ACGT\", k=length % 4)\n",
    "    random.shuffle(base_pool)  # shuffle in place\n",
    "\n",
    "    pos = random.randint(0, length-4)\n",
    "    base_pool[pos:pos+3] = list(\"ATG\")\n",
    "    if class_label == 1:\n",
    "        base_pool[pos+3] = \"C\"\n",
    "    else:\n",
    "        base_pool[pos+3] = \"T\"\n",
    "\n",
    "    return \"\".join(base_pool)\n"
   ]
  },
  {
   "cell_type": "code",
   "execution_count": 4,
   "metadata": {},
   "outputs": [
    {
     "name": "stdout",
     "output_type": "stream",
     "text": [
      "Example Class 1: TTAGGAATTCGAATGTTGACGCACACCTTG\n",
      "Example Class 0: GACACCGTCTACGATGCTTTCCGATAATGC\n"
     ]
    }
   ],
   "source": [
    "n_samples = 500\n",
    "sequences = [generate_sequence(i % 2) for i in range(n_samples)]\n",
    "labels = [i % 2 for i in range(n_samples)]\n",
    "\n",
    "print(\"Example Class 1:\", sequences[0])\n",
    "print(\"Example Class 0:\", sequences[1])\n"
   ]
  },
  {
   "cell_type": "markdown",
   "metadata": {},
   "source": [
    "## Step 2: Sequence Inspection\n",
    "\n",
    "We can calculate nucleotide frequencies, GC content, and visualize distributions.\n"
   ]
  },
  {
   "cell_type": "code",
   "execution_count": 5,
   "metadata": {},
   "outputs": [
    {
     "name": "stdout",
     "output_type": "stream",
     "text": [
      "{'A': 1, 'C': 5, 'G': 1, 'T': 1}\n",
      "[{'A': 8, 'C': 6, 'G': 7, 'T': 9}, {'A': 7, 'C': 9, 'G': 6, 'T': 8}, {'A': 9, 'C': 6, 'G': 7, 'T': 8}, {'A': 8, 'C': 6, 'G': 8, 'T': 8}, {'A': 8, 'C': 6, 'G': 8, 'T': 8}, {'A': 8, 'C': 8, 'G': 7, 'T': 7}, {'A': 9, 'C': 8, 'G': 6, 'T': 7}, {'A': 7, 'C': 7, 'G': 7, 'T': 9}, {'A': 8, 'C': 6, 'G': 7, 'T': 9}, {'A': 8, 'C': 7, 'G': 7, 'T': 8}, {'A': 9, 'C': 5, 'G': 8, 'T': 8}, {'A': 9, 'C': 9, 'G': 6, 'T': 6}, {'A': 5, 'C': 8, 'G': 8, 'T': 9}, {'A': 8, 'C': 9, 'G': 8, 'T': 5}, {'A': 7, 'C': 6, 'G': 7, 'T': 10}, {'A': 8, 'C': 8, 'G': 6, 'T': 8}, {'A': 7, 'C': 7, 'G': 7, 'T': 9}, {'A': 7, 'C': 8, 'G': 8, 'T': 7}, {'A': 7, 'C': 8, 'G': 7, 'T': 8}, {'A': 8, 'C': 9, 'G': 7, 'T': 6}, {'A': 8, 'C': 7, 'G': 8, 'T': 7}, {'A': 8, 'C': 8, 'G': 5, 'T': 9}, {'A': 7, 'C': 7, 'G': 6, 'T': 10}, {'A': 9, 'C': 7, 'G': 6, 'T': 8}, {'A': 6, 'C': 5, 'G': 8, 'T': 11}, {'A': 7, 'C': 7, 'G': 6, 'T': 10}, {'A': 9, 'C': 7, 'G': 6, 'T': 8}, {'A': 6, 'C': 9, 'G': 8, 'T': 7}, {'A': 8, 'C': 7, 'G': 7, 'T': 8}, {'A': 7, 'C': 8, 'G': 6, 'T': 9}, {'A': 8, 'C': 6, 'G': 8, 'T': 8}, {'A': 8, 'C': 6, 'G': 7, 'T': 9}, {'A': 7, 'C': 6, 'G': 7, 'T': 10}, {'A': 9, 'C': 8, 'G': 5, 'T': 8}, {'A': 7, 'C': 7, 'G': 9, 'T': 7}, {'A': 7, 'C': 7, 'G': 9, 'T': 7}, {'A': 7, 'C': 6, 'G': 9, 'T': 8}, {'A': 8, 'C': 6, 'G': 8, 'T': 8}, {'A': 6, 'C': 7, 'G': 7, 'T': 10}, {'A': 6, 'C': 8, 'G': 9, 'T': 7}, {'A': 7, 'C': 5, 'G': 9, 'T': 9}, {'A': 6, 'C': 7, 'G': 9, 'T': 8}, {'A': 7, 'C': 7, 'G': 7, 'T': 9}, {'A': 8, 'C': 6, 'G': 9, 'T': 7}, {'A': 6, 'C': 7, 'G': 7, 'T': 10}, {'A': 9, 'C': 7, 'G': 7, 'T': 7}, {'A': 10, 'C': 6, 'G': 7, 'T': 7}, {'A': 9, 'C': 4, 'G': 8, 'T': 9}, {'A': 7, 'C': 7, 'G': 7, 'T': 9}, {'A': 8, 'C': 9, 'G': 6, 'T': 7}, {'A': 7, 'C': 7, 'G': 8, 'T': 8}, {'A': 8, 'C': 7, 'G': 7, 'T': 8}, {'A': 7, 'C': 5, 'G': 9, 'T': 9}, {'A': 8, 'C': 7, 'G': 8, 'T': 7}, {'A': 6, 'C': 7, 'G': 8, 'T': 9}, {'A': 9, 'C': 6, 'G': 7, 'T': 8}, {'A': 7, 'C': 7, 'G': 8, 'T': 8}, {'A': 8, 'C': 8, 'G': 7, 'T': 7}, {'A': 8, 'C': 6, 'G': 8, 'T': 8}, {'A': 9, 'C': 6, 'G': 8, 'T': 7}, {'A': 8, 'C': 7, 'G': 6, 'T': 9}, {'A': 8, 'C': 8, 'G': 6, 'T': 8}, {'A': 8, 'C': 5, 'G': 8, 'T': 9}, {'A': 8, 'C': 8, 'G': 7, 'T': 7}, {'A': 9, 'C': 7, 'G': 5, 'T': 9}, {'A': 8, 'C': 7, 'G': 6, 'T': 9}, {'A': 7, 'C': 6, 'G': 8, 'T': 9}, {'A': 6, 'C': 9, 'G': 7, 'T': 8}, {'A': 6, 'C': 6, 'G': 8, 'T': 10}, {'A': 9, 'C': 8, 'G': 7, 'T': 6}, {'A': 6, 'C': 7, 'G': 8, 'T': 9}, {'A': 7, 'C': 8, 'G': 7, 'T': 8}, {'A': 8, 'C': 6, 'G': 7, 'T': 9}, {'A': 9, 'C': 5, 'G': 8, 'T': 8}, {'A': 8, 'C': 5, 'G': 8, 'T': 9}, {'A': 6, 'C': 9, 'G': 7, 'T': 8}, {'A': 9, 'C': 6, 'G': 7, 'T': 8}, {'A': 7, 'C': 8, 'G': 7, 'T': 8}, {'A': 8, 'C': 7, 'G': 8, 'T': 7}, {'A': 8, 'C': 8, 'G': 6, 'T': 8}, {'A': 7, 'C': 5, 'G': 8, 'T': 10}, {'A': 8, 'C': 7, 'G': 8, 'T': 7}, {'A': 6, 'C': 7, 'G': 9, 'T': 8}, {'A': 7, 'C': 7, 'G': 8, 'T': 8}, {'A': 7, 'C': 7, 'G': 7, 'T': 9}, {'A': 7, 'C': 8, 'G': 7, 'T': 8}, {'A': 7, 'C': 6, 'G': 8, 'T': 9}, {'A': 6, 'C': 7, 'G': 7, 'T': 10}, {'A': 8, 'C': 6, 'G': 8, 'T': 8}, {'A': 9, 'C': 7, 'G': 6, 'T': 8}, {'A': 6, 'C': 7, 'G': 9, 'T': 8}, {'A': 9, 'C': 5, 'G': 9, 'T': 7}, {'A': 7, 'C': 7, 'G': 9, 'T': 7}, {'A': 7, 'C': 8, 'G': 8, 'T': 7}, {'A': 8, 'C': 6, 'G': 8, 'T': 8}, {'A': 8, 'C': 7, 'G': 7, 'T': 8}, {'A': 7, 'C': 6, 'G': 9, 'T': 8}, {'A': 6, 'C': 8, 'G': 8, 'T': 8}, {'A': 7, 'C': 7, 'G': 7, 'T': 9}, {'A': 7, 'C': 7, 'G': 8, 'T': 8}, {'A': 7, 'C': 6, 'G': 8, 'T': 9}, {'A': 9, 'C': 7, 'G': 7, 'T': 7}, {'A': 7, 'C': 6, 'G': 8, 'T': 9}, {'A': 9, 'C': 7, 'G': 6, 'T': 8}, {'A': 7, 'C': 8, 'G': 8, 'T': 7}, {'A': 7, 'C': 9, 'G': 6, 'T': 8}, {'A': 6, 'C': 6, 'G': 7, 'T': 11}, {'A': 8, 'C': 8, 'G': 8, 'T': 6}, {'A': 8, 'C': 6, 'G': 8, 'T': 8}, {'A': 6, 'C': 8, 'G': 8, 'T': 8}, {'A': 6, 'C': 8, 'G': 8, 'T': 8}, {'A': 7, 'C': 7, 'G': 8, 'T': 8}, {'A': 8, 'C': 7, 'G': 7, 'T': 8}, {'A': 9, 'C': 6, 'G': 8, 'T': 7}, {'A': 6, 'C': 8, 'G': 7, 'T': 9}, {'A': 6, 'C': 9, 'G': 8, 'T': 7}, {'A': 8, 'C': 6, 'G': 6, 'T': 10}, {'A': 8, 'C': 7, 'G': 7, 'T': 8}, {'A': 8, 'C': 5, 'G': 8, 'T': 9}, {'A': 7, 'C': 8, 'G': 8, 'T': 7}, {'A': 7, 'C': 6, 'G': 8, 'T': 9}, {'A': 8, 'C': 7, 'G': 7, 'T': 8}, {'A': 7, 'C': 7, 'G': 7, 'T': 9}, {'A': 5, 'C': 8, 'G': 8, 'T': 9}, {'A': 9, 'C': 7, 'G': 5, 'T': 9}, {'A': 8, 'C': 8, 'G': 6, 'T': 8}, {'A': 7, 'C': 6, 'G': 8, 'T': 9}, {'A': 8, 'C': 8, 'G': 6, 'T': 8}, {'A': 7, 'C': 7, 'G': 7, 'T': 9}, {'A': 7, 'C': 9, 'G': 8, 'T': 6}, {'A': 8, 'C': 5, 'G': 7, 'T': 10}, {'A': 6, 'C': 7, 'G': 8, 'T': 9}, {'A': 6, 'C': 7, 'G': 8, 'T': 9}, {'A': 8, 'C': 8, 'G': 8, 'T': 6}, {'A': 7, 'C': 8, 'G': 7, 'T': 8}, {'A': 8, 'C': 7, 'G': 7, 'T': 8}, {'A': 7, 'C': 6, 'G': 8, 'T': 9}, {'A': 9, 'C': 7, 'G': 8, 'T': 6}, {'A': 7, 'C': 7, 'G': 7, 'T': 9}, {'A': 7, 'C': 6, 'G': 9, 'T': 8}, {'A': 6, 'C': 7, 'G': 7, 'T': 10}, {'A': 8, 'C': 8, 'G': 8, 'T': 6}, {'A': 9, 'C': 5, 'G': 8, 'T': 8}, {'A': 7, 'C': 8, 'G': 7, 'T': 8}, {'A': 8, 'C': 4, 'G': 9, 'T': 9}, {'A': 8, 'C': 7, 'G': 7, 'T': 8}, {'A': 7, 'C': 5, 'G': 9, 'T': 9}, {'A': 7, 'C': 6, 'G': 8, 'T': 9}, {'A': 7, 'C': 7, 'G': 7, 'T': 9}, {'A': 7, 'C': 7, 'G': 7, 'T': 9}, {'A': 8, 'C': 7, 'G': 8, 'T': 7}, {'A': 8, 'C': 8, 'G': 7, 'T': 7}, {'A': 9, 'C': 6, 'G': 6, 'T': 9}, {'A': 8, 'C': 7, 'G': 7, 'T': 8}, {'A': 8, 'C': 7, 'G': 7, 'T': 8}, {'A': 7, 'C': 7, 'G': 8, 'T': 8}, {'A': 9, 'C': 7, 'G': 8, 'T': 6}, {'A': 8, 'C': 8, 'G': 7, 'T': 7}, {'A': 9, 'C': 5, 'G': 9, 'T': 7}, {'A': 8, 'C': 6, 'G': 8, 'T': 8}, {'A': 8, 'C': 7, 'G': 8, 'T': 7}, {'A': 7, 'C': 7, 'G': 9, 'T': 7}, {'A': 8, 'C': 7, 'G': 6, 'T': 9}, {'A': 8, 'C': 8, 'G': 8, 'T': 6}, {'A': 8, 'C': 5, 'G': 9, 'T': 8}, {'A': 7, 'C': 7, 'G': 8, 'T': 8}, {'A': 9, 'C': 6, 'G': 8, 'T': 7}, {'A': 8, 'C': 7, 'G': 6, 'T': 9}, {'A': 7, 'C': 7, 'G': 7, 'T': 9}, {'A': 7, 'C': 8, 'G': 7, 'T': 8}, {'A': 8, 'C': 7, 'G': 7, 'T': 8}, {'A': 6, 'C': 8, 'G': 8, 'T': 8}, {'A': 6, 'C': 7, 'G': 8, 'T': 9}, {'A': 8, 'C': 9, 'G': 7, 'T': 6}, {'A': 8, 'C': 5, 'G': 9, 'T': 8}, {'A': 6, 'C': 10, 'G': 7, 'T': 7}, {'A': 6, 'C': 6, 'G': 9, 'T': 9}, {'A': 6, 'C': 8, 'G': 8, 'T': 8}, {'A': 8, 'C': 5, 'G': 10, 'T': 7}, {'A': 9, 'C': 7, 'G': 6, 'T': 8}, {'A': 9, 'C': 5, 'G': 6, 'T': 10}, {'A': 7, 'C': 8, 'G': 7, 'T': 8}, {'A': 5, 'C': 7, 'G': 9, 'T': 9}, {'A': 7, 'C': 7, 'G': 8, 'T': 8}, {'A': 7, 'C': 5, 'G': 10, 'T': 8}, {'A': 10, 'C': 7, 'G': 7, 'T': 6}, {'A': 7, 'C': 5, 'G': 8, 'T': 10}, {'A': 7, 'C': 7, 'G': 9, 'T': 7}, {'A': 7, 'C': 7, 'G': 8, 'T': 8}, {'A': 8, 'C': 6, 'G': 8, 'T': 8}, {'A': 7, 'C': 5, 'G': 9, 'T': 9}, {'A': 6, 'C': 9, 'G': 8, 'T': 7}, {'A': 6, 'C': 8, 'G': 9, 'T': 7}, {'A': 7, 'C': 8, 'G': 8, 'T': 7}, {'A': 7, 'C': 6, 'G': 9, 'T': 8}, {'A': 7, 'C': 6, 'G': 9, 'T': 8}, {'A': 7, 'C': 6, 'G': 8, 'T': 9}, {'A': 8, 'C': 7, 'G': 8, 'T': 7}, {'A': 7, 'C': 5, 'G': 9, 'T': 9}, {'A': 6, 'C': 9, 'G': 7, 'T': 8}, {'A': 8, 'C': 6, 'G': 9, 'T': 7}, {'A': 7, 'C': 9, 'G': 9, 'T': 5}, {'A': 7, 'C': 6, 'G': 9, 'T': 8}, {'A': 7, 'C': 8, 'G': 8, 'T': 7}, {'A': 6, 'C': 6, 'G': 9, 'T': 9}, {'A': 7, 'C': 7, 'G': 8, 'T': 8}, {'A': 8, 'C': 5, 'G': 8, 'T': 9}, {'A': 6, 'C': 8, 'G': 7, 'T': 9}, {'A': 7, 'C': 5, 'G': 8, 'T': 10}, {'A': 8, 'C': 7, 'G': 7, 'T': 8}, {'A': 8, 'C': 9, 'G': 6, 'T': 7}, {'A': 10, 'C': 8, 'G': 5, 'T': 7}, {'A': 7, 'C': 7, 'G': 7, 'T': 9}, {'A': 8, 'C': 8, 'G': 6, 'T': 8}, {'A': 8, 'C': 7, 'G': 7, 'T': 8}, {'A': 7, 'C': 7, 'G': 8, 'T': 8}, {'A': 7, 'C': 7, 'G': 8, 'T': 8}, {'A': 7, 'C': 7, 'G': 9, 'T': 7}, {'A': 4, 'C': 7, 'G': 8, 'T': 11}, {'A': 8, 'C': 8, 'G': 8, 'T': 6}, {'A': 8, 'C': 6, 'G': 8, 'T': 8}, {'A': 8, 'C': 6, 'G': 9, 'T': 7}, {'A': 7, 'C': 7, 'G': 7, 'T': 9}, {'A': 7, 'C': 9, 'G': 7, 'T': 7}, {'A': 8, 'C': 8, 'G': 5, 'T': 9}, {'A': 8, 'C': 7, 'G': 8, 'T': 7}, {'A': 8, 'C': 5, 'G': 8, 'T': 9}, {'A': 9, 'C': 8, 'G': 5, 'T': 8}, {'A': 7, 'C': 7, 'G': 7, 'T': 9}, {'A': 7, 'C': 8, 'G': 7, 'T': 8}, {'A': 7, 'C': 5, 'G': 9, 'T': 9}, {'A': 7, 'C': 8, 'G': 7, 'T': 8}, {'A': 10, 'C': 5, 'G': 6, 'T': 9}, {'A': 9, 'C': 6, 'G': 7, 'T': 8}, {'A': 7, 'C': 7, 'G': 7, 'T': 9}, {'A': 7, 'C': 10, 'G': 7, 'T': 6}, {'A': 9, 'C': 7, 'G': 7, 'T': 7}, {'A': 7, 'C': 8, 'G': 7, 'T': 8}, {'A': 8, 'C': 6, 'G': 8, 'T': 8}, {'A': 7, 'C': 8, 'G': 9, 'T': 6}, {'A': 7, 'C': 7, 'G': 7, 'T': 9}, {'A': 9, 'C': 7, 'G': 7, 'T': 7}, {'A': 7, 'C': 8, 'G': 5, 'T': 10}, {'A': 8, 'C': 7, 'G': 8, 'T': 7}, {'A': 9, 'C': 7, 'G': 7, 'T': 7}, {'A': 5, 'C': 8, 'G': 9, 'T': 8}, {'A': 8, 'C': 6, 'G': 8, 'T': 8}, {'A': 6, 'C': 8, 'G': 7, 'T': 9}, {'A': 8, 'C': 7, 'G': 7, 'T': 8}, {'A': 9, 'C': 6, 'G': 6, 'T': 9}, {'A': 8, 'C': 7, 'G': 7, 'T': 8}, {'A': 6, 'C': 8, 'G': 8, 'T': 8}, {'A': 8, 'C': 6, 'G': 9, 'T': 7}, {'A': 7, 'C': 7, 'G': 8, 'T': 8}, {'A': 8, 'C': 6, 'G': 7, 'T': 9}, {'A': 8, 'C': 9, 'G': 7, 'T': 6}, {'A': 7, 'C': 6, 'G': 8, 'T': 9}, {'A': 7, 'C': 8, 'G': 6, 'T': 9}, {'A': 7, 'C': 5, 'G': 9, 'T': 9}, {'A': 8, 'C': 10, 'G': 6, 'T': 6}, {'A': 6, 'C': 7, 'G': 8, 'T': 9}, {'A': 8, 'C': 7, 'G': 9, 'T': 6}, {'A': 7, 'C': 8, 'G': 8, 'T': 7}, {'A': 6, 'C': 8, 'G': 8, 'T': 8}, {'A': 6, 'C': 6, 'G': 8, 'T': 10}, {'A': 8, 'C': 7, 'G': 7, 'T': 8}, {'A': 7, 'C': 8, 'G': 8, 'T': 7}, {'A': 8, 'C': 7, 'G': 7, 'T': 8}, {'A': 8, 'C': 6, 'G': 8, 'T': 8}, {'A': 7, 'C': 7, 'G': 9, 'T': 7}, {'A': 7, 'C': 6, 'G': 8, 'T': 9}, {'A': 7, 'C': 7, 'G': 9, 'T': 7}, {'A': 6, 'C': 8, 'G': 7, 'T': 9}, {'A': 8, 'C': 6, 'G': 7, 'T': 9}, {'A': 8, 'C': 7, 'G': 6, 'T': 9}, {'A': 7, 'C': 7, 'G': 8, 'T': 8}, {'A': 9, 'C': 6, 'G': 6, 'T': 9}, {'A': 7, 'C': 7, 'G': 8, 'T': 8}, {'A': 8, 'C': 6, 'G': 8, 'T': 8}, {'A': 9, 'C': 6, 'G': 8, 'T': 7}, {'A': 7, 'C': 5, 'G': 8, 'T': 10}, {'A': 7, 'C': 8, 'G': 8, 'T': 7}, {'A': 8, 'C': 7, 'G': 7, 'T': 8}, {'A': 7, 'C': 7, 'G': 7, 'T': 9}, {'A': 8, 'C': 6, 'G': 7, 'T': 9}, {'A': 8, 'C': 9, 'G': 6, 'T': 7}, {'A': 7, 'C': 6, 'G': 8, 'T': 9}, {'A': 8, 'C': 8, 'G': 8, 'T': 6}, {'A': 7, 'C': 6, 'G': 8, 'T': 9}, {'A': 8, 'C': 8, 'G': 6, 'T': 8}, {'A': 8, 'C': 7, 'G': 7, 'T': 8}, {'A': 9, 'C': 6, 'G': 7, 'T': 8}, {'A': 7, 'C': 6, 'G': 8, 'T': 9}, {'A': 7, 'C': 8, 'G': 7, 'T': 8}, {'A': 7, 'C': 8, 'G': 7, 'T': 8}, {'A': 8, 'C': 7, 'G': 7, 'T': 8}, {'A': 7, 'C': 6, 'G': 9, 'T': 8}, {'A': 9, 'C': 6, 'G': 8, 'T': 7}, {'A': 8, 'C': 6, 'G': 9, 'T': 7}, {'A': 7, 'C': 9, 'G': 7, 'T': 7}, {'A': 7, 'C': 6, 'G': 9, 'T': 8}, {'A': 9, 'C': 7, 'G': 7, 'T': 7}, {'A': 8, 'C': 6, 'G': 7, 'T': 9}, {'A': 9, 'C': 6, 'G': 8, 'T': 7}, {'A': 8, 'C': 7, 'G': 7, 'T': 8}, {'A': 8, 'C': 8, 'G': 6, 'T': 8}, {'A': 7, 'C': 8, 'G': 7, 'T': 8}, {'A': 6, 'C': 9, 'G': 7, 'T': 8}, {'A': 8, 'C': 6, 'G': 7, 'T': 9}, {'A': 6, 'C': 9, 'G': 8, 'T': 7}, {'A': 7, 'C': 7, 'G': 7, 'T': 9}, {'A': 7, 'C': 7, 'G': 8, 'T': 8}, {'A': 6, 'C': 8, 'G': 8, 'T': 8}, {'A': 9, 'C': 7, 'G': 6, 'T': 8}, {'A': 7, 'C': 8, 'G': 8, 'T': 7}, {'A': 8, 'C': 9, 'G': 5, 'T': 8}, {'A': 6, 'C': 7, 'G': 9, 'T': 8}, {'A': 8, 'C': 8, 'G': 6, 'T': 8}, {'A': 8, 'C': 5, 'G': 8, 'T': 9}, {'A': 8, 'C': 8, 'G': 7, 'T': 7}, {'A': 8, 'C': 6, 'G': 6, 'T': 10}, {'A': 8, 'C': 6, 'G': 6, 'T': 10}, {'A': 6, 'C': 6, 'G': 8, 'T': 10}, {'A': 8, 'C': 6, 'G': 8, 'T': 8}, {'A': 9, 'C': 7, 'G': 6, 'T': 8}, {'A': 9, 'C': 6, 'G': 8, 'T': 7}, {'A': 8, 'C': 6, 'G': 8, 'T': 8}, {'A': 9, 'C': 7, 'G': 8, 'T': 6}, {'A': 8, 'C': 6, 'G': 7, 'T': 9}, {'A': 10, 'C': 6, 'G': 7, 'T': 7}, {'A': 7, 'C': 6, 'G': 8, 'T': 9}, {'A': 9, 'C': 9, 'G': 6, 'T': 6}, {'A': 6, 'C': 6, 'G': 8, 'T': 10}, {'A': 6, 'C': 7, 'G': 9, 'T': 8}, {'A': 8, 'C': 7, 'G': 8, 'T': 7}, {'A': 5, 'C': 8, 'G': 8, 'T': 9}, {'A': 8, 'C': 6, 'G': 9, 'T': 7}, {'A': 10, 'C': 5, 'G': 7, 'T': 8}, {'A': 6, 'C': 6, 'G': 8, 'T': 10}, {'A': 6, 'C': 7, 'G': 9, 'T': 8}, {'A': 7, 'C': 7, 'G': 8, 'T': 8}, {'A': 8, 'C': 7, 'G': 8, 'T': 7}, {'A': 8, 'C': 7, 'G': 7, 'T': 8}, {'A': 8, 'C': 6, 'G': 8, 'T': 8}, {'A': 9, 'C': 6, 'G': 7, 'T': 8}, {'A': 8, 'C': 7, 'G': 6, 'T': 9}, {'A': 8, 'C': 6, 'G': 8, 'T': 8}, {'A': 8, 'C': 9, 'G': 8, 'T': 5}, {'A': 9, 'C': 7, 'G': 7, 'T': 7}, {'A': 7, 'C': 6, 'G': 8, 'T': 9}, {'A': 8, 'C': 7, 'G': 7, 'T': 8}, {'A': 7, 'C': 8, 'G': 8, 'T': 7}, {'A': 9, 'C': 6, 'G': 7, 'T': 8}, {'A': 7, 'C': 8, 'G': 8, 'T': 7}, {'A': 8, 'C': 7, 'G': 7, 'T': 8}, {'A': 8, 'C': 7, 'G': 7, 'T': 8}, {'A': 8, 'C': 6, 'G': 8, 'T': 8}, {'A': 9, 'C': 7, 'G': 8, 'T': 6}, {'A': 7, 'C': 6, 'G': 9, 'T': 8}, {'A': 8, 'C': 8, 'G': 6, 'T': 8}, {'A': 8, 'C': 5, 'G': 9, 'T': 8}, {'A': 8, 'C': 7, 'G': 7, 'T': 8}, {'A': 7, 'C': 7, 'G': 8, 'T': 8}, {'A': 7, 'C': 8, 'G': 8, 'T': 7}, {'A': 7, 'C': 6, 'G': 7, 'T': 10}, {'A': 8, 'C': 7, 'G': 7, 'T': 8}, {'A': 8, 'C': 6, 'G': 7, 'T': 9}, {'A': 8, 'C': 7, 'G': 8, 'T': 7}, {'A': 7, 'C': 6, 'G': 8, 'T': 9}, {'A': 7, 'C': 9, 'G': 9, 'T': 5}, {'A': 5, 'C': 8, 'G': 8, 'T': 9}, {'A': 7, 'C': 10, 'G': 6, 'T': 7}, {'A': 6, 'C': 8, 'G': 8, 'T': 8}, {'A': 6, 'C': 9, 'G': 6, 'T': 9}, {'A': 8, 'C': 7, 'G': 7, 'T': 8}, {'A': 6, 'C': 8, 'G': 9, 'T': 7}, {'A': 9, 'C': 7, 'G': 7, 'T': 7}, {'A': 7, 'C': 7, 'G': 7, 'T': 9}, {'A': 7, 'C': 7, 'G': 7, 'T': 9}, {'A': 7, 'C': 9, 'G': 6, 'T': 8}, {'A': 8, 'C': 5, 'G': 9, 'T': 8}, {'A': 7, 'C': 8, 'G': 7, 'T': 8}, {'A': 8, 'C': 7, 'G': 6, 'T': 9}, {'A': 9, 'C': 8, 'G': 8, 'T': 5}, {'A': 6, 'C': 7, 'G': 8, 'T': 9}, {'A': 10, 'C': 7, 'G': 8, 'T': 5}, {'A': 8, 'C': 7, 'G': 6, 'T': 9}, {'A': 6, 'C': 7, 'G': 8, 'T': 9}, {'A': 7, 'C': 6, 'G': 8, 'T': 9}, {'A': 7, 'C': 7, 'G': 8, 'T': 8}, {'A': 7, 'C': 8, 'G': 7, 'T': 8}, {'A': 5, 'C': 8, 'G': 9, 'T': 8}, {'A': 7, 'C': 8, 'G': 6, 'T': 9}, {'A': 8, 'C': 8, 'G': 7, 'T': 7}, {'A': 8, 'C': 8, 'G': 6, 'T': 8}, {'A': 6, 'C': 7, 'G': 10, 'T': 7}, {'A': 7, 'C': 5, 'G': 9, 'T': 9}, {'A': 8, 'C': 8, 'G': 9, 'T': 5}, {'A': 6, 'C': 5, 'G': 9, 'T': 10}, {'A': 9, 'C': 7, 'G': 6, 'T': 8}, {'A': 7, 'C': 7, 'G': 8, 'T': 8}, {'A': 8, 'C': 9, 'G': 8, 'T': 5}, {'A': 9, 'C': 7, 'G': 6, 'T': 8}, {'A': 8, 'C': 9, 'G': 6, 'T': 7}, {'A': 9, 'C': 6, 'G': 6, 'T': 9}, {'A': 7, 'C': 8, 'G': 8, 'T': 7}, {'A': 6, 'C': 6, 'G': 9, 'T': 9}, {'A': 9, 'C': 7, 'G': 6, 'T': 8}, {'A': 7, 'C': 6, 'G': 8, 'T': 9}, {'A': 8, 'C': 8, 'G': 8, 'T': 6}, {'A': 8, 'C': 6, 'G': 8, 'T': 8}, {'A': 7, 'C': 8, 'G': 8, 'T': 7}, {'A': 9, 'C': 5, 'G': 7, 'T': 9}, {'A': 6, 'C': 8, 'G': 8, 'T': 8}, {'A': 8, 'C': 5, 'G': 8, 'T': 9}, {'A': 10, 'C': 6, 'G': 6, 'T': 8}, {'A': 9, 'C': 5, 'G': 9, 'T': 7}, {'A': 7, 'C': 6, 'G': 7, 'T': 10}, {'A': 9, 'C': 7, 'G': 6, 'T': 8}, {'A': 7, 'C': 8, 'G': 8, 'T': 7}, {'A': 8, 'C': 8, 'G': 8, 'T': 6}, {'A': 10, 'C': 5, 'G': 8, 'T': 7}, {'A': 7, 'C': 6, 'G': 9, 'T': 8}, {'A': 7, 'C': 7, 'G': 8, 'T': 8}, {'A': 7, 'C': 6, 'G': 8, 'T': 9}, {'A': 8, 'C': 9, 'G': 5, 'T': 8}, {'A': 8, 'C': 6, 'G': 7, 'T': 9}, {'A': 7, 'C': 9, 'G': 6, 'T': 8}, {'A': 6, 'C': 7, 'G': 7, 'T': 10}, {'A': 8, 'C': 7, 'G': 9, 'T': 6}, {'A': 8, 'C': 6, 'G': 8, 'T': 8}, {'A': 8, 'C': 6, 'G': 9, 'T': 7}, {'A': 7, 'C': 8, 'G': 6, 'T': 9}, {'A': 9, 'C': 8, 'G': 6, 'T': 7}, {'A': 7, 'C': 7, 'G': 8, 'T': 8}, {'A': 6, 'C': 9, 'G': 7, 'T': 8}, {'A': 8, 'C': 5, 'G': 8, 'T': 9}, {'A': 8, 'C': 7, 'G': 8, 'T': 7}, {'A': 9, 'C': 7, 'G': 7, 'T': 7}, {'A': 9, 'C': 6, 'G': 8, 'T': 7}, {'A': 7, 'C': 6, 'G': 8, 'T': 9}, {'A': 6, 'C': 9, 'G': 8, 'T': 7}, {'A': 6, 'C': 6, 'G': 8, 'T': 10}, {'A': 8, 'C': 5, 'G': 9, 'T': 8}, {'A': 9, 'C': 6, 'G': 5, 'T': 10}, {'A': 9, 'C': 7, 'G': 8, 'T': 6}, {'A': 7, 'C': 5, 'G': 9, 'T': 9}, {'A': 8, 'C': 7, 'G': 6, 'T': 9}, {'A': 7, 'C': 7, 'G': 7, 'T': 9}, {'A': 7, 'C': 9, 'G': 7, 'T': 7}, {'A': 7, 'C': 7, 'G': 8, 'T': 8}, {'A': 8, 'C': 7, 'G': 8, 'T': 7}, {'A': 5, 'C': 6, 'G': 9, 'T': 10}, {'A': 9, 'C': 7, 'G': 7, 'T': 7}, {'A': 7, 'C': 8, 'G': 7, 'T': 8}, {'A': 7, 'C': 7, 'G': 8, 'T': 8}, {'A': 8, 'C': 6, 'G': 8, 'T': 8}, {'A': 8, 'C': 7, 'G': 8, 'T': 7}, {'A': 8, 'C': 5, 'G': 8, 'T': 9}, {'A': 7, 'C': 8, 'G': 6, 'T': 9}, {'A': 8, 'C': 6, 'G': 9, 'T': 7}, {'A': 8, 'C': 8, 'G': 7, 'T': 7}, {'A': 8, 'C': 8, 'G': 8, 'T': 6}, {'A': 7, 'C': 8, 'G': 8, 'T': 7}, {'A': 8, 'C': 7, 'G': 7, 'T': 8}, {'A': 9, 'C': 6, 'G': 9, 'T': 6}, {'A': 8, 'C': 6, 'G': 7, 'T': 9}, {'A': 7, 'C': 7, 'G': 7, 'T': 9}, {'A': 6, 'C': 6, 'G': 10, 'T': 8}, {'A': 8, 'C': 8, 'G': 7, 'T': 7}, {'A': 7, 'C': 7, 'G': 6, 'T': 10}, {'A': 7, 'C': 7, 'G': 9, 'T': 7}, {'A': 8, 'C': 7, 'G': 8, 'T': 7}, {'A': 7, 'C': 9, 'G': 8, 'T': 6}, {'A': 8, 'C': 6, 'G': 8, 'T': 8}, {'A': 8, 'C': 8, 'G': 7, 'T': 7}, {'A': 7, 'C': 6, 'G': 7, 'T': 10}, {'A': 9, 'C': 8, 'G': 6, 'T': 7}, {'A': 8, 'C': 6, 'G': 7, 'T': 9}, {'A': 8, 'C': 7, 'G': 8, 'T': 7}, {'A': 9, 'C': 5, 'G': 8, 'T': 8}, {'A': 5, 'C': 8, 'G': 9, 'T': 8}, {'A': 8, 'C': 6, 'G': 6, 'T': 10}, {'A': 8, 'C': 9, 'G': 7, 'T': 6}, {'A': 8, 'C': 7, 'G': 8, 'T': 7}, {'A': 8, 'C': 7, 'G': 7, 'T': 8}, {'A': 7, 'C': 7, 'G': 9, 'T': 7}, {'A': 8, 'C': 7, 'G': 8, 'T': 7}, {'A': 7, 'C': 7, 'G': 8, 'T': 8}, {'A': 9, 'C': 7, 'G': 6, 'T': 8}, {'A': 7, 'C': 7, 'G': 8, 'T': 8}, {'A': 7, 'C': 7, 'G': 7, 'T': 9}, {'A': 5, 'C': 8, 'G': 8, 'T': 9}, {'A': 6, 'C': 8, 'G': 7, 'T': 9}, {'A': 7, 'C': 6, 'G': 9, 'T': 8}, {'A': 8, 'C': 8, 'G': 6, 'T': 8}, {'A': 6, 'C': 7, 'G': 7, 'T': 10}, {'A': 8, 'C': 8, 'G': 7, 'T': 7}, {'A': 7, 'C': 8, 'G': 6, 'T': 9}, {'A': 6, 'C': 7, 'G': 8, 'T': 9}]\n"
     ]
    }
   ],
   "source": [
    "def nucleotide_counts(seq):\n",
    "    return {nt: seq.count(nt) for nt in \"ACGT\"}\n",
    "\n",
    "# apply nucleotide_counts to a single sequence\n",
    "one_seq_counts = nucleotide_counts('ACCCGCTC')\n",
    "print(one_seq_counts)\n",
    "\n",
    "# apply nucleotide_counts to our list of sequences\n",
    "seq_list_counts = [nucleotide_counts(seq) for seq in sequences]\n",
    "print(seq_list_counts)\n"
   ]
  },
  {
   "cell_type": "markdown",
   "metadata": {},
   "source": [
    "## Step 3: One-Hot Encoding DNA\n",
    "\n",
    "Machine learning models require numerical input. A common way to represent DNA is **one-hot encoding**:\n",
    "- A = [1,0,0,0]\n",
    "- C = [0,1,0,0]\n",
    "- G = [0,0,1,0]\n",
    "- T = [0,0,0,1]\n"
   ]
  },
  {
   "cell_type": "code",
   "execution_count": 6,
   "metadata": {},
   "outputs": [
    {
     "name": "stdout",
     "output_type": "stream",
     "text": [
      "(30, 4)\n",
      "[[0. 0. 0. 1.]\n",
      " [0. 0. 0. 1.]\n",
      " [1. 0. 0. 0.]\n",
      " [0. 0. 1. 0.]\n",
      " [0. 0. 1. 0.]\n",
      " [1. 0. 0. 0.]\n",
      " [1. 0. 0. 0.]\n",
      " [0. 0. 0. 1.]\n",
      " [0. 0. 0. 1.]\n",
      " [0. 1. 0. 0.]\n",
      " [0. 0. 1. 0.]\n",
      " [1. 0. 0. 0.]\n",
      " [1. 0. 0. 0.]\n",
      " [0. 0. 0. 1.]\n",
      " [0. 0. 1. 0.]\n",
      " [0. 0. 0. 1.]\n",
      " [0. 0. 0. 1.]\n",
      " [0. 0. 1. 0.]\n",
      " [1. 0. 0. 0.]\n",
      " [0. 1. 0. 0.]\n",
      " [0. 0. 1. 0.]\n",
      " [0. 1. 0. 0.]\n",
      " [1. 0. 0. 0.]\n",
      " [0. 1. 0. 0.]\n",
      " [1. 0. 0. 0.]\n",
      " [0. 1. 0. 0.]\n",
      " [0. 1. 0. 0.]\n",
      " [0. 0. 0. 1.]\n",
      " [0. 0. 0. 1.]\n",
      " [0. 0. 1. 0.]]\n"
     ]
    }
   ],
   "source": [
    "def one_hot_encode(sequence):\n",
    "    seq_array = np.array(list(sequence))[:, None]\n",
    "    bases = np.array(list('ACGT'))\n",
    "    one_hot = (seq_array == bases).astype(np.float32)\n",
    "    return one_hot\n",
    "\n",
    "first_sequence_OHE = one_hot_encode(sequences[0]) # one hot encoding for the first sequence in the list\n",
    "print(first_sequence_OHE.shape) # shape of the one-hot encoded array length x 4 (one channel per nucleotide)\n",
    "print(first_sequence_OHE)\n"
   ]
  },
  {
   "cell_type": "markdown",
   "metadata": {},
   "source": [
    "## Step 4 : Dataset Shapes\n",
    "\n",
    "There are two ways to structure one-hot encoded sequences:\n",
    "\n",
    "1. **Flattened representation** (each sequence is turned into a 1D vector)  \n",
    "   - Shape: `(n_samples, seq_len*4)`  \n",
    "   - Works for simple linear ML models (like logistic regression).  \n",
    "\n",
    "2. **Tensor representation** (keep sequence positions and nucleotide channels separate)  \n",
    "   - Shape: `(n_samples, seq_len, 4)`  \n",
    "   - Natural input for CNNs and deep learning models.  \n",
    "\n",
    "Let's look at both.\n"
   ]
  },
  {
   "cell_type": "markdown",
   "metadata": {},
   "source": [
    "#### Scenario 1: Flattened for simple models\n",
    "Here we have a nucleotide representation every 4 positions following the format ACGT-ACGT-ACGT..\n",
    "* So for the sequence AGT the flattened representation will be \n",
    "    - [1, 0, 0, 0, 0, 0, 1, 0, 0, 0, 0, 1] "
   ]
  },
  {
   "cell_type": "code",
   "execution_count": 9,
   "metadata": {},
   "outputs": [
    {
     "name": "stdout",
     "output_type": "stream",
     "text": [
      "Flattened dataset shape: (500, 120)\n",
      "Example flattened vector: [0. 0. 0. 1. 0. 0. 0. 1. 1. 0. 0. 0. 0. 0. 1. 0. 0. 0. 1. 0. 1. 0. 0. 0.\n",
      " 1. 0. 0. 0. 0. 0. 0. 1. 0. 0. 0. 1. 0. 1. 0. 0. 0. 0. 1. 0. 1. 0. 0. 0.\n",
      " 1. 0. 0. 0. 0. 0. 0. 1. 0. 0. 1. 0. 0. 0. 0. 1. 0. 0. 0. 1. 0. 0. 1. 0.\n",
      " 1. 0. 0. 0. 0. 1. 0. 0. 0. 0. 1. 0. 0. 1. 0. 0. 1. 0. 0. 0. 0. 1. 0. 0.\n",
      " 1. 0. 0. 0. 0. 1. 0. 0. 0. 1. 0. 0. 0. 0. 0. 1. 0. 0. 0. 1. 0. 0. 1. 0.]\n"
     ]
    }
   ],
   "source": [
    "# Flattened: shape (n_samples, seq_len*4)\n",
    "X_flat = np.array([one_hot_encode(seq).flatten() for seq in sequences])\n",
    "y = np.array(labels)\n",
    "\n",
    "print(\"Flattened dataset shape:\", X_flat.shape)\n",
    "print(\"Example flattened vector:\", X_flat[0])  "
   ]
  },
  {
   "cell_type": "markdown",
   "metadata": {},
   "source": [
    "#### Scenario 2: Tensor (for Deep Learning models)\n",
    "Now the AGT will be represented as a 2D matrix instead of a flattened list\n",
    "$$\n",
    "\\begin{bmatrix}\n",
    "1 & 0 & 0 & 0 & (A)\\\\\\\\\n",
    "0 & 0 & 1 & 0 & (G)\\\\\\\\\n",
    "0 & 0 & 0 & 1 & (T)\n",
    "\\end{bmatrix}\n",
    "$$\n",
    "\n",
    "This format keeps the positional structure of the sequence and is the natural input for CNNs and transformers.\n"
   ]
  },
  {
   "cell_type": "code",
   "execution_count": 10,
   "metadata": {},
   "outputs": [
    {
     "name": "stdout",
     "output_type": "stream",
     "text": [
      "Tensor dataset shape: (500, 30, 4)\n"
     ]
    },
    {
     "data": {
      "image/png": "[encoded data removed]",
      "text/plain": [
       "<Figure size 640x480 with 1 Axes>"
      ]
     },
     "metadata": {},
     "output_type": "display_data"
    }
   ],
   "source": [
    "# Tensor: shape (n_samples, seq_len, 4)\n",
    "X_tensor = np.array([one_hot_encode(seq) for seq in sequences])\n",
    "print(\"Tensor dataset shape:\", X_tensor.shape)\n",
    "# visualize the one-hot encoding\n",
    "# for each position in the sequence, there is a 1 (yellow) in the channel corresponding to the nucleotide at that position\n",
    "sns.heatmap(first_sequence_OHE, cmap=\"cividis\", cbar= False,xticklabels=list(\"ACGT\"))\n",
    "plt.title(\"One-hot encoding of first sequence\")\n",
    "plt.show()\n"
   ]
  },
  {
   "cell_type": "markdown",
   "metadata": {},
   "source": [
    "## Step 5: Train/Test Split\n",
    "We always split into training and test sets to evaluate model performance fairly.\n"
   ]
  },
  {
   "cell_type": "code",
   "execution_count": 11,
   "metadata": {},
   "outputs": [
    {
     "name": "stdout",
     "output_type": "stream",
     "text": [
      "Train size: 350 Test size: 150\n"
     ]
    }
   ],
   "source": [
    "X_train, X_test, y_train, y_test = train_test_split(\n",
    "    X_flat, y, test_size=0.3, random_state=42\n",
    ")\n",
    "print(\"Train size:\", X_train.shape[0], \"Test size:\", X_test.shape[0])\n"
   ]
  },
  {
   "cell_type": "markdown",
   "metadata": {},
   "source": [
    "## Step 6: Simple Classifier\n",
    "We'll use a logistic regression model (very basic). Real S2F models often use CNNs or transformers, but this illustrates the principle.\n"
   ]
  },
  {
   "cell_type": "code",
   "execution_count": 12,
   "metadata": {},
   "outputs": [
    {
     "name": "stdout",
     "output_type": "stream",
     "text": [
      "Test Accuracy: 0.7133333333333334\n"
     ]
    },
    {
     "data": {
      "image/png": "[encoded data removed]",
      "text/plain": [
       "<Figure size 640x480 with 2 Axes>"
      ]
     },
     "metadata": {},
     "output_type": "display_data"
    }
   ],
   "source": [
    "clf = LogisticRegression(max_iter=1000)\n",
    "clf.fit(X_train, y_train)\n",
    "y_pred = clf.predict(X_test)\n",
    "\n",
    "acc = accuracy_score(y_test, y_pred)\n",
    "print(\"Test Accuracy:\", acc)\n",
    "ConfusionMatrixDisplay.from_predictions(y_test, y_pred)\n",
    "plt.show()\n"
   ]
  },
  {
   "cell_type": "markdown",
   "metadata": {},
   "source": [
    "## Step 7: Why Linear Models Are Not Enough\n",
    "\n",
    "Our logistic regression reached an accuracy of 0.5 on this toy dataset.  \n",
    "That’s not bad for a start but would not be the case in a real complex sequence — but there are important **limitations**:\n",
    "\n",
    "- **Linear decision boundaries:** Logistic regression (and other linear models) can only separate classes if they are linearly separable.  \n",
    "- **No positional awareness:** Flattening the sequence destroys positional structure. The model cannot detect motifs like \"ATG\" occurring in a specific region.  \n",
    "- **No higher-order dependencies:** Linear models cannot capture interactions between nucleotides or motifs (e.g., enhancers, binding sites).  \n",
    "\n",
    "In biology, regulatory function often depends on **non-linear motif combinations** and **context**.  \n",
    "That’s why we use **non-linear models** such as convolutional neural networks (CNNs) or transformers."
   ]
  },
  {
   "cell_type": "markdown",
   "metadata": {},
   "source": [
    "## Step 8: Moving to Tensor Representations\n",
    "\n",
    "To model biological sequences more realistically, we keep the data in its natural format:\n",
    "\n",
    "- Shape: `(n_samples, seq_len, 4)`  \n",
    "- Each row corresponds to a nucleotide position.  \n",
    "- Each column corresponds to one channel (A, C, G, T).  \n",
    "\n",
    "This allows the model to **slide filters across the sequence** (like scanning windows) and detect motifs.  \n",
    "\n",
    "Let’s prepare the tensor dataset for deep learning.\n"
   ]
  },
  {
   "cell_type": "code",
   "execution_count": 13,
   "metadata": {},
   "outputs": [
    {
     "name": "stdout",
     "output_type": "stream",
     "text": [
      "Tensor dataset shape: torch.Size([500, 30, 4])\n"
     ]
    },
    {
     "name": "stderr",
     "output_type": "stream",
     "text": [
      "/tmp/ipykernel_3350732/159780335.py:6: UserWarning: Creating a tensor from a list of numpy.ndarrays is extremely slow. Please consider converting the list to a single numpy.ndarray with numpy.array() before converting to a tensor. (Triggered internally at /pytorch/torch/csrc/utils/tensor_new.cpp:253.)\n",
      "  X_tensor = torch.tensor([one_hot_encode(seq) for seq in sequences], dtype=torch.float32)\n"
     ]
    }
   ],
   "source": [
    "import torch\n",
    "import torch.nn as nn\n",
    "import torch.nn.functional as F\n",
    "\n",
    "# Convert dataset into tensor format\n",
    "X_tensor = torch.tensor([one_hot_encode(seq) for seq in sequences], dtype=torch.float32)\n",
    "y_tensor = torch.tensor(labels, dtype=torch.long)\n",
    "\n",
    "print(\"Tensor dataset shape:\", X_tensor.shape)  # (samples, seq_len, 4)\n"
   ]
  },
  {
   "cell_type": "markdown",
   "metadata": {},
   "source": [
    "## Step 9: A Simple 1D Convolutional Model\n",
    "\n",
    "We will define a very small CNN that scans the sequence and tries to classify it.  \n",
    "This is just to illustrate the concept. In practice, S2F models are much deeper.\n"
   ]
  },
  {
   "cell_type": "code",
   "execution_count": 14,
   "metadata": {},
   "outputs": [
    {
     "name": "stdout",
     "output_type": "stream",
     "text": [
      "SimpleCNN(\n",
      "  (conv1): Conv1d(4, 8, kernel_size=(3,), stride=(1,), padding=(1,))\n",
      "  (fc): Linear(in_features=240, out_features=2, bias=True)\n",
      ")\n"
     ]
    }
   ],
   "source": [
    "class SimpleCNN(nn.Module):\n",
    "    def __init__(self):\n",
    "        super(SimpleCNN, self).__init__()\n",
    "        self.conv1 = nn.Conv1d(in_channels=4, out_channels=8, kernel_size=3, padding=1)\n",
    "        self.fc = nn.Linear(8 * X_tensor.shape[1], 2)  # 2 classes (labels 0/1)\n",
    "\n",
    "    def forward(self, x):\n",
    "        # input shape: (batch, seq_len, 4) → we transpose to (batch, channels, seq_len)\n",
    "        x = x.permute(0, 2, 1)\n",
    "        x = F.relu(self.conv1(x))\n",
    "        x = x.view(x.size(0), -1)\n",
    "        x = self.fc(x)\n",
    "        return x\n",
    "\n",
    "model = SimpleCNN()\n",
    "print(model)\n"
   ]
  },
  {
   "cell_type": "code",
   "execution_count": 23,
   "metadata": {},
   "outputs": [
    {
     "name": "stderr",
     "output_type": "stream",
     "text": [
      "/tmp/ipykernel_3350732/1043679892.py:5: UserWarning: To copy construct from a tensor, it is recommended to use sourceTensor.detach().clone() or sourceTensor.detach().clone().requires_grad_(True), rather than torch.tensor(sourceTensor).\n",
      "  X_torch = torch.tensor(X_tensor, dtype=torch.float32)\n"
     ]
    },
    {
     "name": "stdout",
     "output_type": "stream",
     "text": [
      "Finished training\n"
     ]
    }
   ],
   "source": [
    "from sklearn.model_selection import train_test_split\n",
    "from torch.utils.data import TensorDataset, DataLoader\n",
    "\n",
    "# Convert numpy arrays into torch tensors\n",
    "X_torch = torch.tensor(X_tensor, dtype=torch.float32)\n",
    "y_torch = torch.tensor(y, dtype=torch.long)\n",
    "\n",
    "# Random 70/30 split\n",
    "X_train, X_test, y_train, y_test = train_test_split(\n",
    "    X_torch, y_torch, test_size=0.3, random_state=42, shuffle=True\n",
    ")\n",
    "\n",
    "# Wrap in TensorDataset\n",
    "train_data = TensorDataset(X_train, y_train)\n",
    "test_data = TensorDataset(X_test, y_test)\n",
    "\n",
    "# DataLoaders\n",
    "train_loader = DataLoader(train_data, batch_size=32, shuffle=True)\n",
    "test_loader = DataLoader(test_data, batch_size=32)\n",
    "\n",
    "# Training loop\n",
    "optimizer = torch.optim.Adam(model.parameters(), lr=0.01)\n",
    "loss_fn = nn.CrossEntropyLoss()\n",
    "\n",
    "for epoch in range(20):\n",
    "    for xb, yb in train_loader:\n",
    "        optimizer.zero_grad()\n",
    "        preds = model(xb)\n",
    "        loss = loss_fn(preds, yb)\n",
    "        loss.backward()\n",
    "        optimizer.step()\n",
    "\n",
    "print(\"Finished training\")\n"
   ]
  },
  {
   "cell_type": "markdown",
   "metadata": {},
   "source": [
    "## Step 11: Evaluation\n",
    "\n",
    "Let's test the CNN on the held-out sequences.\n"
   ]
  },
  {
   "cell_type": "code",
   "execution_count": 24,
   "metadata": {},
   "outputs": [
    {
     "name": "stdout",
     "output_type": "stream",
     "text": [
      "Test Accuracy: 0.78\n"
     ]
    }
   ],
   "source": [
    "correct, total = 0, 0\n",
    "with torch.no_grad():\n",
    "    for xb, yb in test_loader:\n",
    "        preds = model(xb)\n",
    "        pred_labels = preds.argmax(dim=1)\n",
    "        correct += (pred_labels == yb).sum().item()\n",
    "        total += yb.size(0)\n",
    "\n",
    "print(f\"Test Accuracy: {correct/total:.2f}\")\n"
   ]
  },
  {
   "cell_type": "markdown",
   "metadata": {},
   "source": [
    "## Why Does a 1D CNN Work Better?\n",
    "\n",
    "In our dataset, both classes have the **same nucleotide composition**.  \n",
    "The only difference is in the **motif arrangement**:\n",
    "- Class 1 → `\"ATG\"` followed by `\"C\"`\n",
    "- Class 0 → `\"ATG\"` followed by `\"T\"`\n",
    "\n",
    "A **linear model** (like logistic regression):\n",
    "- Flattens the sequence into a long vector.\n",
    "- Only \"sees\" the total counts of nucleotides.\n",
    "- Cannot capture **order** or **local dependencies**.\n",
    "\n",
    "A **1D Convolutional Neural Network (CNN)**:\n",
    "- Treats the DNA sequence as a tensor: `(sequence_length, 4 channels for ACGT)`.\n",
    "- Uses **filters (kernels)** that slide across the sequence.\n",
    "- Each filter learns to detect short **motifs** (e.g., \"ATGC\" vs \"ATGT\").\n",
    "- Since the filter slides across the sequence, it can detect motifs **anywhere**, not just in one fixed position.\n",
    "\n",
    "This is why CNNs are a much better fit for biological sequence data.\n"
   ]
  },
  {
   "cell_type": "code",
   "execution_count": 25,
   "metadata": {},
   "outputs": [
    {
     "data": {
      "image/png": "[encoded data removed]",
      "text/plain": [
       "<Figure size 1000x300 with 1 Axes>"
      ]
     },
     "metadata": {},
     "output_type": "display_data"
    }
   ],
   "source": [
    "# Take one example sequence\n",
    "example_seq = sequences[0]\n",
    "example_encoded = one_hot_encode(example_seq)\n",
    "\n",
    "plt.figure(figsize=(10, 3))\n",
    "sns.heatmap(example_encoded.T, cmap=\"cividis\", cbar=False,\n",
    "            xticklabels=False, yticklabels=list(\"ACGT\"))\n",
    "plt.title(\"One-hot encoded sequence representation\")\n",
    "plt.ylabel(\"Nucleotide\")\n",
    "plt.xlabel(\"Position in sequence\")\n",
    "plt.show()\n"
   ]
  }
 ],
 "metadata": {
  "kernelspec": {
   "display_name": "zebra_env",
   "language": "python",
   "name": "python3"
  },
  "language_info": {
   "codemirror_mode": {
    "name": "ipython",
    "version": 3
   },
   "file_extension": ".py",
   "mimetype": "text/x-python",
   "name": "python",
   "nbconvert_exporter": "python",
   "pygments_lexer": "ipython3",
   "version": "3.10.18"
  }
 },
 "nbformat": 4,
 "nbformat_minor": 2
}
